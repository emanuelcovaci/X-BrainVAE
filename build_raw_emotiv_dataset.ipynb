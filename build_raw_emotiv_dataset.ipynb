{
 "cells": [
  {
   "cell_type": "code",
   "id": "initial_id",
   "metadata": {
    "collapsed": true,
    "ExecuteTime": {
     "end_time": "2024-08-27T16:13:27.313319Z",
     "start_time": "2024-08-27T16:13:27.297587Z"
    }
   },
   "source": "import pandas as pd",
   "outputs": [],
   "execution_count": 2
  },
  {
   "metadata": {
    "ExecuteTime": {
     "end_time": "2024-08-27T16:13:28.246381Z",
     "start_time": "2024-08-27T16:13:28.230757Z"
    }
   },
   "cell_type": "code",
   "source": [
    "train_csv = [\n",
    "    r'dataset/emotiv/Dataset/user_a.csv',\n",
    "    r'dataset/emotiv/Dataset/user_b.csv',\n",
    "    r'dataset/emotiv/Dataset/user_c.csv',\n",
    "    \n",
    "]"
   ],
   "id": "8911f3b632384d0b",
   "outputs": [],
   "execution_count": 3
  },
  {
   "metadata": {
    "ExecuteTime": {
     "end_time": "2024-08-27T16:13:35.142383Z",
     "start_time": "2024-08-27T16:13:34.990221Z"
    }
   },
   "cell_type": "code",
   "source": [
    "dfs = [\n",
    "    pd.read_csv(f) for f in train_csv\n",
    "]"
   ],
   "id": "c09adb7edd87d417",
   "outputs": [],
   "execution_count": 5
  },
  {
   "metadata": {
    "ExecuteTime": {
     "end_time": "2024-08-27T16:14:03.918115Z",
     "start_time": "2024-08-27T16:14:03.879706Z"
    }
   },
   "cell_type": "code",
   "source": [
    "for i in range(len(dfs)):\n",
    "    dfs[i]['User'] = pd.Series(i, index=dfs[i].index)\n",
    "train_df = pd.concat(dfs, axis=0).sample(frac=1.0, random_state=123).reset_index(drop=True)"
   ],
   "id": "d698faa192d1db24",
   "outputs": [],
   "execution_count": 7
  },
  {
   "metadata": {
    "ExecuteTime": {
     "end_time": "2024-08-27T16:15:04.423497Z",
     "start_time": "2024-08-27T16:15:03.452762Z"
    }
   },
   "cell_type": "code",
   "source": "train_df.to_csv(r'dataset/emotiv/train_real_data_a_b_c.csv', index=False)",
   "id": "a453f79a0fcbb900",
   "outputs": [],
   "execution_count": 9
  },
  {
   "metadata": {
    "ExecuteTime": {
     "end_time": "2024-08-27T16:16:30.618605Z",
     "start_time": "2024-08-27T16:16:30.602976Z"
    }
   },
   "cell_type": "code",
   "source": "val_csv = [r'dataset/emotiv/Dataset/user_d.csv']",
   "id": "e304b36571b5b82",
   "outputs": [],
   "execution_count": 15
  },
  {
   "metadata": {
    "ExecuteTime": {
     "end_time": "2024-08-27T16:16:31.479414Z",
     "start_time": "2024-08-27T16:16:31.416563Z"
    }
   },
   "cell_type": "code",
   "source": "val_df = pd.read_csv(val_csv[0])",
   "id": "3521de9425351e28",
   "outputs": [],
   "execution_count": 16
  },
  {
   "metadata": {
    "ExecuteTime": {
     "end_time": "2024-08-27T16:16:32.194631Z",
     "start_time": "2024-08-27T16:16:32.179007Z"
    }
   },
   "cell_type": "code",
   "source": "val_df['User'] = 3",
   "id": "a3982b423c8065a9",
   "outputs": [],
   "execution_count": 17
  },
  {
   "metadata": {
    "ExecuteTime": {
     "end_time": "2024-08-27T16:16:46.626937Z",
     "start_time": "2024-08-27T16:16:46.299068Z"
    }
   },
   "cell_type": "code",
   "source": "val_df.to_csv(r'dataset/emotiv/val_real_data_d.csv', index=False)",
   "id": "47ee42f03f871d92",
   "outputs": [],
   "execution_count": 18
  },
  {
   "metadata": {},
   "cell_type": "code",
   "outputs": [],
   "execution_count": null,
   "source": "",
   "id": "ea2a1cdb575b5656"
  }
 ],
 "metadata": {
  "kernelspec": {
   "display_name": "Python 3",
   "language": "python",
   "name": "python3"
  },
  "language_info": {
   "codemirror_mode": {
    "name": "ipython",
    "version": 2
   },
   "file_extension": ".py",
   "mimetype": "text/x-python",
   "name": "python",
   "nbconvert_exporter": "python",
   "pygments_lexer": "ipython2",
   "version": "2.7.6"
  }
 },
 "nbformat": 4,
 "nbformat_minor": 5
}
